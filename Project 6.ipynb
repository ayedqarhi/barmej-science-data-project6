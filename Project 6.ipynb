{
 "cells": [
  {
   "cell_type": "markdown",
   "metadata": {
    "colab_type": "text",
    "id": "QTgq-IqfEiPT"
   },
   "source": [
    "<div style=\"direction:rtl; text-align:right\">\n",
    "\n",
    "# المشروع السادس: هل تستطيع تصنيف النصوص؟"
   ]
  },
  {
   "cell_type": "markdown",
   "metadata": {
    "colab_type": "text",
    "id": "sTvpwwE4EiPV"
   },
   "source": [
    "<div style=\"direction:rtl; text-align:right\">\n",
    "أهلاً بكم في المشروع السادس من علم البيانات. في هذا المشروع، سنقوم معاً بالنظر إلى بيانات فريدة من نوعها وهي مجموعة من النصوص المصنفة إلى مجالات مختلفة. سنقوم بنمذجة هذه البيانات لتوقع تصنيف النصوص بناء على الكلمات الواردة. تستطيع قراءة المزيد عن البيانات من خلال موقع سايكت-ليرن:"
   ]
  },
  {
   "cell_type": "markdown",
   "metadata": {
    "colab_type": "text",
    "id": "WY8p1tTnEiPX"
   },
   "source": [
    "- https://scikit-learn.org/0.19/datasets/twenty_newsgroups.html"
   ]
  },
  {
   "cell_type": "markdown",
   "metadata": {
    "colab_type": "text",
    "id": "C_7boLBGEiPZ"
   },
   "source": [
    "<div style=\"direction:rtl; text-align:right\">\n",
    "ملاحظة: عليك تعديل الخانات التي يوجد فيها الكود أدناه قبل تسليم المشروع. جميع الخانات الأخرى يجب ان تبقى كما هي بدون أي \n",
    "تعديل.\n",
    "\n",
    "```\n",
    "############################\n",
    "# عليك تعديل هذه الخانة قبل تسليم المشروع\n",
    "# YOU HAVE TO EDIT THIS CELLL\n",
    "############################\n",
    "```"
   ]
  },
  {
   "cell_type": "code",
   "execution_count": 118,
   "metadata": {
    "colab": {},
    "colab_type": "code",
    "id": "mNvvXHoREiPa"
   },
   "outputs": [],
   "source": [
    "import numpy as np\n",
    "import pandas as pd\n",
    "import matplotlib.pyplot as plt\n",
    "import seaborn as sns\n",
    "%matplotlib inline"
   ]
  },
  {
   "cell_type": "markdown",
   "metadata": {
    "colab_type": "text",
    "id": "3P12Z3i2EiPg"
   },
   "source": [
    "<div style=\"direction:rtl; text-align:right\">\n",
    "\n",
    "# قراءة البيانات"
   ]
  },
  {
   "cell_type": "code",
   "execution_count": 119,
   "metadata": {
    "colab": {},
    "colab_type": "code",
    "id": "cWa8IRjhEiPh"
   },
   "outputs": [],
   "source": [
    "from sklearn.datasets import fetch_20newsgroups"
   ]
  },
  {
   "cell_type": "code",
   "execution_count": 120,
   "metadata": {
    "colab": {},
    "colab_type": "code",
    "id": "6rrlx1UKEiPp"
   },
   "outputs": [],
   "source": [
    "newsgroups_data = fetch_20newsgroups(subset='train')"
   ]
  },
  {
   "cell_type": "code",
   "execution_count": 121,
   "metadata": {
    "colab": {},
    "colab_type": "code",
    "id": "19RcBVzmEiPz"
   },
   "outputs": [],
   "source": [
    "X = newsgroups_data['data']\n",
    "y = newsgroups_data['target']"
   ]
  },
  {
   "cell_type": "markdown",
   "metadata": {
    "colab_type": "text",
    "id": "zpWlQk-EEiP3"
   },
   "source": [
    "<div style=\"direction:rtl; text-align:right\">\n",
    "لاحظ أن X هنا عبارة عن قائمة بالنصوص، وليست جدول كما هو الحال مع الدروس الأخرى. أما y فهي كذلك قائمة بالتصنيفات المختلفة. لمعرفة معنى التصنيفات نستطيع طباعة target_names:"
   ]
  },
  {
   "cell_type": "code",
   "execution_count": 122,
   "metadata": {
    "colab": {},
    "colab_type": "code",
    "id": "j_mOkAH1EiP4",
    "outputId": "545f7d80-deca-458f-ed03-129b022c2aeb"
   },
   "outputs": [
    {
     "name": "stdout",
     "output_type": "stream",
     "text": [
      "0 \t->\t alt.atheism\n",
      "1 \t->\t comp.graphics\n",
      "2 \t->\t comp.os.ms-windows.misc\n",
      "3 \t->\t comp.sys.ibm.pc.hardware\n",
      "4 \t->\t comp.sys.mac.hardware\n",
      "5 \t->\t comp.windows.x\n",
      "6 \t->\t misc.forsale\n",
      "7 \t->\t rec.autos\n",
      "8 \t->\t rec.motorcycles\n",
      "9 \t->\t rec.sport.baseball\n",
      "10 \t->\t rec.sport.hockey\n",
      "11 \t->\t sci.crypt\n",
      "12 \t->\t sci.electronics\n",
      "13 \t->\t sci.med\n",
      "14 \t->\t sci.space\n",
      "15 \t->\t soc.religion.christian\n",
      "16 \t->\t talk.politics.guns\n",
      "17 \t->\t talk.politics.mideast\n",
      "18 \t->\t talk.politics.misc\n",
      "19 \t->\t talk.religion.misc\n"
     ]
    }
   ],
   "source": [
    "for i, k in enumerate(newsgroups_data['target_names']):\n",
    "    print(i, '\\t->\\t', k)"
   ]
  },
  {
   "cell_type": "markdown",
   "metadata": {
    "colab_type": "text",
    "id": "N817xW7eEiQC"
   },
   "source": [
    "<div style=\"direction:rtl; text-align:right\">\n",
    "وهنا سنقوم بطباعة أول قيمة من X"
   ]
  },
  {
   "cell_type": "code",
   "execution_count": 123,
   "metadata": {
    "colab": {},
    "colab_type": "code",
    "id": "vSOX9pG6EiQE",
    "outputId": "a19efd5b-7857-4d23-ea28-6b7c634b823b"
   },
   "outputs": [
    {
     "name": "stdout",
     "output_type": "stream",
     "text": [
      "From: lerxst@wam.umd.edu (where's my thing)\n",
      "Subject: WHAT car is this!?\n",
      "Nntp-Posting-Host: rac3.wam.umd.edu\n",
      "Organization: University of Maryland, College Park\n",
      "Lines: 15\n",
      "\n",
      " I was wondering if anyone out there could enlighten me on this car I saw\n",
      "the other day. It was a 2-door sports car, looked to be from the late 60s/\n",
      "early 70s. It was called a Bricklin. The doors were really small. In addition,\n",
      "the front bumper was separate from the rest of the body. This is \n",
      "all I know. If anyone can tellme a model name, engine specs, years\n",
      "of production, where this car is made, history, or whatever info you\n",
      "have on this funky looking car, please e-mail.\n",
      "\n",
      "Thanks,\n",
      "- IL\n",
      "   ---- brought to you by your neighborhood Lerxst ----\n",
      "\n",
      "\n",
      "\n",
      "\n",
      "\n"
     ]
    }
   ],
   "source": [
    "print(X[0])"
   ]
  },
  {
   "cell_type": "markdown",
   "metadata": {
    "colab_type": "text",
    "id": "ZYsWJy4hEiQI"
   },
   "source": [
    "<div style=\"direction:rtl; text-align:right\">\n",
    "لنقم أولاً بعرض كم عدد النصوص لكل صنف ؟ قد تحتاج لاستخدام باندا للقيام بالمهمة!"
   ]
  },
  {
   "cell_type": "code",
   "execution_count": 124,
   "metadata": {
    "colab": {},
    "colab_type": "code",
    "id": "rgM7kHnkEiQK",
    "outputId": "fd2d4922-62ea-40c3-c2b7-2834b8c449f3"
   },
   "outputs": [
    {
     "data": {
      "text/html": [
       "<div>\n",
       "<style scoped>\n",
       "    .dataframe tbody tr th:only-of-type {\n",
       "        vertical-align: middle;\n",
       "    }\n",
       "\n",
       "    .dataframe tbody tr th {\n",
       "        vertical-align: top;\n",
       "    }\n",
       "\n",
       "    .dataframe thead th {\n",
       "        text-align: right;\n",
       "    }\n",
       "</style>\n",
       "<table border=\"1\" class=\"dataframe\">\n",
       "  <thead>\n",
       "    <tr style=\"text-align: right;\">\n",
       "      <th></th>\n",
       "      <th>text</th>\n",
       "    </tr>\n",
       "    <tr>\n",
       "      <th>category</th>\n",
       "      <th></th>\n",
       "    </tr>\n",
       "  </thead>\n",
       "  <tbody>\n",
       "    <tr>\n",
       "      <th>alt.atheism</th>\n",
       "      <td>480</td>\n",
       "    </tr>\n",
       "    <tr>\n",
       "      <th>comp.graphics</th>\n",
       "      <td>584</td>\n",
       "    </tr>\n",
       "    <tr>\n",
       "      <th>comp.os.ms-windows.misc</th>\n",
       "      <td>591</td>\n",
       "    </tr>\n",
       "    <tr>\n",
       "      <th>comp.sys.ibm.pc.hardware</th>\n",
       "      <td>590</td>\n",
       "    </tr>\n",
       "    <tr>\n",
       "      <th>comp.sys.mac.hardware</th>\n",
       "      <td>578</td>\n",
       "    </tr>\n",
       "    <tr>\n",
       "      <th>comp.windows.x</th>\n",
       "      <td>593</td>\n",
       "    </tr>\n",
       "    <tr>\n",
       "      <th>misc.forsale</th>\n",
       "      <td>585</td>\n",
       "    </tr>\n",
       "    <tr>\n",
       "      <th>rec.autos</th>\n",
       "      <td>594</td>\n",
       "    </tr>\n",
       "    <tr>\n",
       "      <th>rec.motorcycles</th>\n",
       "      <td>598</td>\n",
       "    </tr>\n",
       "    <tr>\n",
       "      <th>rec.sport.baseball</th>\n",
       "      <td>597</td>\n",
       "    </tr>\n",
       "    <tr>\n",
       "      <th>rec.sport.hockey</th>\n",
       "      <td>600</td>\n",
       "    </tr>\n",
       "    <tr>\n",
       "      <th>sci.crypt</th>\n",
       "      <td>595</td>\n",
       "    </tr>\n",
       "    <tr>\n",
       "      <th>sci.electronics</th>\n",
       "      <td>591</td>\n",
       "    </tr>\n",
       "    <tr>\n",
       "      <th>sci.med</th>\n",
       "      <td>594</td>\n",
       "    </tr>\n",
       "    <tr>\n",
       "      <th>sci.space</th>\n",
       "      <td>593</td>\n",
       "    </tr>\n",
       "    <tr>\n",
       "      <th>soc.religion.christian</th>\n",
       "      <td>599</td>\n",
       "    </tr>\n",
       "    <tr>\n",
       "      <th>talk.politics.guns</th>\n",
       "      <td>546</td>\n",
       "    </tr>\n",
       "    <tr>\n",
       "      <th>talk.politics.mideast</th>\n",
       "      <td>564</td>\n",
       "    </tr>\n",
       "    <tr>\n",
       "      <th>talk.politics.misc</th>\n",
       "      <td>465</td>\n",
       "    </tr>\n",
       "    <tr>\n",
       "      <th>talk.religion.misc</th>\n",
       "      <td>377</td>\n",
       "    </tr>\n",
       "  </tbody>\n",
       "</table>\n",
       "</div>"
      ],
      "text/plain": [
       "                          text\n",
       "category                      \n",
       "alt.atheism                480\n",
       "comp.graphics              584\n",
       "comp.os.ms-windows.misc    591\n",
       "comp.sys.ibm.pc.hardware   590\n",
       "comp.sys.mac.hardware      578\n",
       "comp.windows.x             593\n",
       "misc.forsale               585\n",
       "rec.autos                  594\n",
       "rec.motorcycles            598\n",
       "rec.sport.baseball         597\n",
       "rec.sport.hockey           600\n",
       "sci.crypt                  595\n",
       "sci.electronics            591\n",
       "sci.med                    594\n",
       "sci.space                  593\n",
       "soc.religion.christian     599\n",
       "talk.politics.guns         546\n",
       "talk.politics.mideast      564\n",
       "talk.politics.misc         465\n",
       "talk.religion.misc         377"
      ]
     },
     "execution_count": 124,
     "metadata": {},
     "output_type": "execute_result"
    }
   ],
   "source": [
    "############################\n",
    "# عليك تعديل هذه الخانة قبل تسليم المشروع\n",
    "# YOU HAVE TO EDIT THIS CELLL\n",
    "############################\n",
    "\n",
    "# YOUR CODE HERE\n",
    "category_list = ['alt.atheism', 'comp.graphics', 'comp.os.ms-windows.misc', 'comp.sys.ibm.pc.hardware', 'comp.sys.mac.hardware', 'comp.windows.x', 'misc.forsale', 'rec.autos', 'rec.motorcycles', 'rec.sport.baseball', 'rec.sport.hockey', 'sci.crypt', 'sci.electronics', 'sci.med', 'sci.space', 'soc.religion.christian', 'talk.politics.guns', 'talk.politics.mideast', 'talk.politics.misc', 'talk.religion.misc']\n",
    "def change_category_val(icat):\n",
    "    return category_list[icat]\n",
    "\n",
    "df = pd.DataFrame({\n",
    "    'text':X,\n",
    "    'category':y\n",
    "})\n",
    "df['category'] = df['category'].apply(change_category_val)\n",
    "df.groupby('category').count()"
   ]
  },
  {
   "cell_type": "markdown",
   "metadata": {
    "colab_type": "text",
    "id": "v0pMf1VLEiQO"
   },
   "source": [
    "<div style=\"direction:rtl; text-align:right\">\n",
    "نرى أن لدينا توازن في توزيع النصوص بين الأصناف المختلفة"
   ]
  },
  {
   "cell_type": "markdown",
   "metadata": {
    "colab_type": "text",
    "id": "KRx-wLPnEiQQ"
   },
   "source": [
    "<div style=\"direction:rtl; text-align:right\">\n",
    "\n",
    "# تجهيز البيانات"
   ]
  },
  {
   "cell_type": "markdown",
   "metadata": {
    "colab_type": "text",
    "id": "WjUYplPnEiQR"
   },
   "source": [
    "<div style=\"direction:rtl; text-align:right\">\n",
    "ماذا نعمل عادة مع البيانات النصية؟ في هذه الحالة، سيكون أمامنا الكثير لنعمله حتى نقوم بتنظيف هذه البيانات وتهيئتها للتحليل. لذلك سنقوم بكتابة بعض الأوامر التي تساعدنا على ذلك."
   ]
  },
  {
   "cell_type": "markdown",
   "metadata": {
    "colab_type": "text",
    "id": "Sbl2dd7KEiQT"
   },
   "source": [
    "<div style=\"direction:rtl; text-align:right\">\n",
    "المهمة الأولى: تنظيف النص"
   ]
  },
  {
   "cell_type": "code",
   "execution_count": 125,
   "metadata": {
    "colab": {},
    "colab_type": "code",
    "id": "4JHzDJ6sEiQU"
   },
   "outputs": [],
   "source": [
    "import re"
   ]
  },
  {
   "cell_type": "code",
   "execution_count": 126,
   "metadata": {
    "colab": {},
    "colab_type": "code",
    "id": "iOfAkPvAEiQY"
   },
   "outputs": [],
   "source": [
    "############################\n",
    "# عليك تعديل هذه الخانة قبل تسليم المشروع\n",
    "# YOU HAVE TO EDIT THIS CELLL\n",
    "############################\n",
    "\n",
    "\n",
    "# HINT: figure out how to: delete special charachters, delete numbers, delete email addresses\n",
    "#          if you dont know, use google!\n",
    "\n",
    "\n",
    "def clean_text(text):\n",
    "    # Lower Case\n",
    "    text = text.lower()\n",
    "    \n",
    "    # Email\n",
    "    email_pattern = r'[a-zA-Z0-9_.+-]+@[a-zA-Z0-9-]+\\.[a-zA-Z0-9-.]+'\n",
    "    text = re.sub(email_pattern, '', text)\n",
    "    \n",
    "    # URL\n",
    "    link_pattern = r\"((http|https)\\:\\/\\/)?[a-zA-Z0-9\\.\\/\\?\\:@\\-_=#]+\\.([a-zA-Z]){2,6}([a-zA-Z0-9\\.\\&\\/\\?\\:@\\-_=#])*\"\n",
    "    text = re.sub(link_pattern, '', text)\n",
    "    \n",
    "    # Numbers and Special Charachters\n",
    "    text = re.sub(r'[^a-zA-z\\s]+', '', text)\n",
    "    \n",
    "    # New Line\n",
    "    text = text.replace('\\n', ' ')\n",
    "    \n",
    "    # Extra Spaces\n",
    "    text = text.split(' ')\n",
    "    temp = []\n",
    "    for word in text:\n",
    "        if word != '':\n",
    "            temp.append(word)\n",
    "    text = ' '.join(temp)\n",
    "    \n",
    "    return text"
   ]
  },
  {
   "cell_type": "markdown",
   "metadata": {
    "colab_type": "text",
    "id": "GgfsB55cEiQd"
   },
   "source": [
    "<div style=\"direction:rtl; text-align:right\">\n",
    "حسنا، سنقوم الآن برؤية أثر هذه التعديلات على العنصر الأول في قائمة النصوص"
   ]
  },
  {
   "cell_type": "code",
   "execution_count": 127,
   "metadata": {
    "colab": {},
    "colab_type": "code",
    "id": "pKR3QwGwEiQl",
    "outputId": "0aeec46e-bd71-4edf-d2e7-333c5eaa9641"
   },
   "outputs": [
    {
     "name": "stdout",
     "output_type": "stream",
     "text": [
      "from wheres my thing subject what car is this nntppostinghost organization university of maryland college park lines i was wondering if anyone out there could enlighten me on this car i saw the other day it was a door sports car looked to be from the late s early s it was called a bricklin the doors were really small in addition the front bumper was separate from the rest of the body this is all i know if anyone can tellme a model name engine specs years of production where this car is made history or whatever info you have on this funky looking car please email thanks il brought to you by your neighborhood lerxst\n"
     ]
    }
   ],
   "source": [
    "print(clean_text(X[0]))"
   ]
  },
  {
   "cell_type": "markdown",
   "metadata": {
    "colab_type": "text",
    "id": "NYPs83ZrEiQq"
   },
   "source": [
    "<div style=\"direction:rtl; text-align:right\">\n",
    "سنقوم الآن بتنفيذ ذات الأمر على باقي النصوص في X:"
   ]
  },
  {
   "cell_type": "code",
   "execution_count": 128,
   "metadata": {
    "colab": {},
    "colab_type": "code",
    "id": "hfatLZwnEiQs"
   },
   "outputs": [],
   "source": [
    "############################\n",
    "# عليك تعديل هذه الخانة قبل تسليم المشروع\n",
    "# YOU HAVE TO EDIT THIS CELLL\n",
    "############################\n",
    "\n",
    "for i in range(len(X)):\n",
    "    X[i] = clean_text(X[i])"
   ]
  },
  {
   "cell_type": "markdown",
   "metadata": {
    "colab_type": "text",
    "id": "O2BD_ZfeEiQx"
   },
   "source": [
    "<div style=\"direction:rtl; text-align:right\">\n",
    "الآن سنقوم باستخدام Td-IDF لتحويل الكلمات إلى مصفوفة ضخمة حتى نستخدمها في النمذجة. في الخانة التالية، ستقوم باستخدام TfidfVectorizer لتحويل النص."
   ]
  },
  {
   "cell_type": "code",
   "execution_count": 129,
   "metadata": {
    "colab": {},
    "colab_type": "code",
    "id": "P_XiPxo0EiQz"
   },
   "outputs": [],
   "source": [
    "############################\n",
    "# عليك تعديل هذه الخانة قبل تسليم المشروع\n",
    "# YOU HAVE TO EDIT THIS CELLL\n",
    "############################\n",
    "from sklearn.feature_extraction.text import TfidfVectorizer\n",
    "vec = TfidfVectorizer()\n",
    "\n",
    "trn_term_doc = vec.fit_transform(X)"
   ]
  },
  {
   "cell_type": "markdown",
   "metadata": {
    "colab_type": "text",
    "id": "b6ECk7dREiQ8"
   },
   "source": [
    "<div style=\"direction:rtl; text-align:right\">\n",
    "\n",
    "# نمذجة البيانات"
   ]
  },
  {
   "cell_type": "markdown",
   "metadata": {
    "colab_type": "text",
    "id": "FANs1n7xEiQ9"
   },
   "source": [
    "<div style=\"direction:rtl; text-align:right\">\n",
    "سنقوم الآن بنمذجة البيانات. لنبدأ بالانحدار اللوجستي. في الخانة أدناه، قم باستيراد كلاً من مكتبة الانحدار اللوجستي، وأمر cross_val_score ثم استخدمهم في تدريب النموذج والتحقق من صحته."
   ]
  },
  {
   "cell_type": "code",
   "execution_count": 130,
   "metadata": {
    "colab": {},
    "colab_type": "code",
    "id": "uc6MkCZvEiQ-",
    "scrolled": true
   },
   "outputs": [
    {
     "name": "stderr",
     "output_type": "stream",
     "text": [
      "C:\\Users\\dell\\Anaconda3\\lib\\site-packages\\sklearn\\model_selection\\_split.py:1978: FutureWarning: The default value of cv will change from 3 to 5 in version 0.22. Specify it explicitly to silence this warning.\n",
      "  warnings.warn(CV_WARNING, FutureWarning)\n",
      "C:\\Users\\dell\\Anaconda3\\lib\\site-packages\\sklearn\\linear_model\\logistic.py:432: FutureWarning: Default solver will be changed to 'lbfgs' in 0.22. Specify a solver to silence this warning.\n",
      "  FutureWarning)\n",
      "C:\\Users\\dell\\Anaconda3\\lib\\site-packages\\sklearn\\linear_model\\logistic.py:469: FutureWarning: Default multi_class will be changed to 'auto' in 0.22. Specify the multi_class option to silence this warning.\n",
      "  \"this warning.\", FutureWarning)\n"
     ]
    }
   ],
   "source": [
    "############################\n",
    "# عليك تعديل هذه الخانة قبل تسليم المشروع\n",
    "# YOU HAVE TO EDIT THIS CELLL\n",
    "############################\n",
    "from sklearn.linear_model import LogisticRegression\n",
    "from sklearn.model_selection import cross_val_score\n",
    "# HINT: You should use `train_data` as your input\n",
    "\n",
    "model = LogisticRegression()\n",
    "scores = cross_val_score(model, trn_term_doc, y)"
   ]
  },
  {
   "cell_type": "code",
   "execution_count": 131,
   "metadata": {
    "colab": {},
    "colab_type": "code",
    "id": "mlKO_U3YEiRC"
   },
   "outputs": [],
   "source": [
    "avg_score = scores.mean()"
   ]
  },
  {
   "cell_type": "code",
   "execution_count": 132,
   "metadata": {
    "colab": {},
    "colab_type": "code",
    "id": "XeEslIT8EiRi",
    "outputId": "d23a74cf-232c-4e4f-aff5-f423781baccd"
   },
   "outputs": [
    {
     "name": "stdout",
     "output_type": "stream",
     "text": [
      "Average accuracy is:  0.8736087308030065\n"
     ]
    }
   ],
   "source": [
    "print('Average accuracy is: ', avg_score)"
   ]
  },
  {
   "cell_type": "markdown",
   "metadata": {
    "colab_type": "text",
    "id": "eiypo5UVEiR8"
   },
   "source": [
    "<div style=\"direction:rtl; text-align:right\">\n",
    "لا تحتاج في هذا المشروع إلى تسليم أي ملف إلى كاقل. ولكن تأكد من صحة الإجابات ثم قم بتسليم المشروع في الموقع."
   ]
  }
 ],
 "metadata": {
  "colab": {
   "name": "Project 6.ipynb",
   "provenance": []
  },
  "kernelspec": {
   "display_name": "Python 3",
   "language": "python",
   "name": "python3"
  },
  "language_info": {
   "codemirror_mode": {
    "name": "ipython",
    "version": 3
   },
   "file_extension": ".py",
   "mimetype": "text/x-python",
   "name": "python",
   "nbconvert_exporter": "python",
   "pygments_lexer": "ipython3",
   "version": "3.6.5"
  }
 },
 "nbformat": 4,
 "nbformat_minor": 1
}
